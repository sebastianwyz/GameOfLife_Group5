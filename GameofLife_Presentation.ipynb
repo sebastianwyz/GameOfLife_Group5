{
 "cells": [
  {
   "cell_type": "markdown",
   "id": "c6d2e6e5-158f-43cd-bd58-b7c9a7233315",
   "metadata": {},
   "source": [
    "<h1 style=\"text-align: center; color: darkred;\">University of Padua</h1>\n",
    "<h2 style=\"text-align: center;\">Group 5: Game of Life</h2>\n",
    "<h3 style=\"text-align: center;\">Project Submission – 14/02/2025</h3>\n"
   ]
  },
  {
   "cell_type": "markdown",
   "id": "0b14c3aa-bb65-42aa-9063-93d57dc5cd8b",
   "metadata": {},
   "source": [
    "<div style=\"text-align: center;\">\n",
    "    <img src=\"University_of_Padua_seal.png\" alt=\"University of Padua Logo\" width=\"150\">\n",
    "</div>"
   ]
  },
  {
   "cell_type": "markdown",
   "id": "8bd0f017-73bc-4ba6-8112-bd9ad8a4bd52",
   "metadata": {},
   "source": [
    "<h3>Team Members:</h3>\n",
    "<ul>\n",
    "    <li><b>Sebastian Waruszynski</b></li>\n",
    "    <li><b>Martina Cassina</b></li>\n",
    "    <li><b>Fredy Dairy</b></li>\n",
    "    <li><b>Miguel Avilés</b></li>"
   ]
  },
  {
   "cell_type": "markdown",
   "id": "ea2e587d-2b5a-4096-a61c-c0aad6421df7",
   "metadata": {},
   "source": [
    "# Introduction to the Game of Life\n",
    "### Rules:\n",
    "\n",
    "#### 1. A living cell with fewer than two or more than three neighbors dies.\n",
    "A cell dies due to underpopulation or overpopulation.\n",
    "\n",
    "#### 2. A living cell with two or three neighbors survives.\n",
    "A stable formation remains unchanged.\n",
    "\n",
    "#### 3. A dead cell with exactly three neighbors becomes alive.\n",
    "A new cell is born due to reproduction.\r\n",
    "\n"
   ]
  },
  {
   "cell_type": "markdown",
   "id": "751aca4a-6c5e-471b-aec3-f5d17f8f3b72",
   "metadata": {},
   "source": [
    "<div style=\"text-align: center;\">\n",
    "    <img src=\"Rules-of-Conways-Game-of-Life.png\" alt=\"Rules\" width=\"400\">\n",
    "</div>"
   ]
  },
  {
   "cell_type": "code",
   "execution_count": 45,
   "id": "ee1c3377-e1d3-426d-9b61-f466dc97300e",
   "metadata": {},
   "outputs": [
    {
     "name": "stdout",
     "output_type": "stream",
     "text": [
      "pygame 2.6.1 (SDL 2.28.4, Python 3.12.4)\n",
      "Hello from the pygame community. https://www.pygame.org/contribute.html\n"
     ]
    }
   ],
   "source": [
    "import time\n",
    "import pygame\n",
    "import numpy as np\n",
    "import random"
   ]
  },
  {
   "cell_type": "code",
   "execution_count": 47,
   "id": "f2633fcc-e4aa-45e0-bfb8-5ee5e4db3aa1",
   "metadata": {},
   "outputs": [],
   "source": [
    "COLOR_BG = (10, 10, 10) \n",
    "COLOR_GRID = (40, 40, 40) \n",
    "COLOR_DIE_NEXT = (170, 170, 170) \n",
    "COLOR_ALIVE_NEXT = (255, 182, 193)\n",
    "COLOR_RANDOM = (255, 182, 193)"
   ]
  },
  {
   "cell_type": "code",
   "execution_count": 49,
   "id": "29eaa578-67c4-4c92-97c9-20e9a9cf9281",
   "metadata": {},
   "outputs": [],
   "source": [
    "def update(screen, cells, size, with_progress=False):\n",
    "    update_cells = np.zeros(cells.shape, dtype=int)\n",
    "\n",
    "    rows, cols = cells.shape\n",
    "    for row, col in np.ndindex(cells.shape):\n",
    "        alive = sum(\n",
    "            cells[(row + i) % rows, (col + j) % cols]\n",
    "            for i in [-1, 0, 1]\n",
    "            for j in [-1, 0, 1]\n",
    "            if not (i == 0 and j == 0)\n",
    "        )\n",
    "\n",
    "        color = COLOR_BG if cells[row, col] == 0 else COLOR_ALIVE_NEXT\n",
    "\n",
    "        if cells[row, col] == 1:\n",
    "            if alive < 2 or alive > 3:\n",
    "                if with_progress:\n",
    "                    color = COLOR_DIE_NEXT\n",
    "            elif 2 <= alive <= 3:\n",
    "                update_cells[row, col] = 1\n",
    "                if with_progress:\n",
    "                    color = COLOR_ALIVE_NEXT\n",
    "        else:\n",
    "            if alive == 3:\n",
    "                update_cells[row, col] = 1\n",
    "                if with_progress:\n",
    "                    color = COLOR_ALIVE_NEXT\n",
    "\n",
    "        pygame.draw.rect(screen, color, (col * size, row * size, size - 1, size - 1))\n",
    "\n",
    "    return update_cells"
   ]
  },
  {
   "cell_type": "code",
   "execution_count": 51,
   "id": "b6697222-731a-4350-ae4b-7bd454892759",
   "metadata": {},
   "outputs": [],
   "source": [
    "def reset(cells):\n",
    "    cells[:, :] = 0\n",
    "    return cells"
   ]
  },
  {
   "cell_type": "code",
   "execution_count": 53,
   "id": "0c99074a-12f0-41f1-b61e-4838f3cdb963",
   "metadata": {},
   "outputs": [],
   "source": [
    "def generate_random(cells):\n",
    "    cells[:, :] = np.random.randint(0, 2, size=cells.shape)\n",
    "    return cells"
   ]
  },
  {
   "cell_type": "code",
   "execution_count": 55,
   "id": "816de7b2-8a3d-4bed-b460-e57dc71468c0",
   "metadata": {},
   "outputs": [],
   "source": [
    "def main():\n",
    "    pygame.init()\n",
    "    screen = pygame.display.set_mode((800, 600))\n",
    "    clock = pygame.time.Clock()\n",
    "\n",
    "    cells = np.zeros((60, 80))  \n",
    "    size = 10  \n",
    "\n",
    "    screen.fill(COLOR_GRID)\n",
    "    update(screen, cells, size)\n",
    "    pygame.display.flip()\n",
    "    pygame.display.update()\n",
    "\n",
    "    running = False\n",
    "    drawing = False\n",
    "\n",
    "    while True:\n",
    "        for event in pygame.event.get():\n",
    "            if event.type == pygame.QUIT:\n",
    "                pygame.quit()\n",
    "                return\n",
    "            elif event.type == pygame.KEYDOWN:\n",
    "                if event.key == pygame.K_SPACE:\n",
    "                    running = not running\n",
    "                    update(screen, cells, size)\n",
    "                    pygame.display.update()\n",
    "                if event.key == pygame.K_q: \n",
    "                    cells = reset(cells)\n",
    "                    update(screen, cells, size)\n",
    "                    pygame.display.update()\n",
    "                if event.key == pygame.K_g:  \n",
    "                    cells = generate_random(cells)\n",
    "                    update(screen, cells, size)\n",
    "                    pygame.display.update()\n",
    "            elif event.type == pygame.MOUSEBUTTONDOWN and event.button == 1:\n",
    "                drawing = True\n",
    "            elif event.type == pygame.MOUSEBUTTONUP and event.button == 1:\n",
    "                drawing = False\n",
    "            elif event.type == pygame.MOUSEMOTION and drawing:\n",
    "                pos = pygame.mouse.get_pos()\n",
    "                cells[min(pos[1] // size, cells.shape[0] - 1), min(pos[0] // size, cells.shape[1] - 1)] = 1\n",
    "                update(screen, cells, size)\n",
    "                pygame.display.update()\n",
    "\n",
    "        screen.fill(COLOR_GRID)\n",
    "\n",
    "        if running:\n",
    "            cells = update(screen, cells, size, with_progress=True)\n",
    "            pygame.display.update()\n",
    "\n",
    "        clock.tick(10)  \n",
    "        time.sleep(0.001)\n",
    "\n",
    "if __name__ == '__main__':\n",
    "    main()"
   ]
  },
  {
   "cell_type": "code",
   "execution_count": null,
   "id": "10f826db-240a-4930-bc1e-0649f769a8c7",
   "metadata": {},
   "outputs": [],
   "source": []
  }
 ],
 "metadata": {
  "kernelspec": {
   "display_name": "Python 3 (ipykernel)",
   "language": "python",
   "name": "python3"
  },
  "language_info": {
   "codemirror_mode": {
    "name": "ipython",
    "version": 3
   },
   "file_extension": ".py",
   "mimetype": "text/x-python",
   "name": "python",
   "nbconvert_exporter": "python",
   "pygments_lexer": "ipython3",
   "version": "3.12.4"
  }
 },
 "nbformat": 4,
 "nbformat_minor": 5
}
